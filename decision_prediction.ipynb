{
 "cells": [
  {
   "cell_type": "code",
   "id": "initial_id",
   "metadata": {
    "collapsed": true,
    "ExecuteTime": {
     "end_time": "2025-09-06T05:49:31.190851Z",
     "start_time": "2025-09-06T05:49:31.173582Z"
    }
   },
   "source": [
    "import pandas as pd\n",
    "dataset = pd.read_csv(\"Dataset/pocket_decision_dataset.csv\")"
   ],
   "outputs": [],
   "execution_count": 4
  },
  {
   "metadata": {
    "ExecuteTime": {
     "end_time": "2025-09-06T05:50:10.863386Z",
     "start_time": "2025-09-06T05:50:10.837281Z"
    }
   },
   "cell_type": "code",
   "source": "print(dataset)",
   "id": "f13ecb83d9760ecc",
   "outputs": [
    {
     "name": "stdout",
     "output_type": "stream",
     "text": [
      "      urgency  cost_ratio  emotion_level  regret_risk  decision\n",
      "0    0.374540    0.698162       0.185133     0.519082         1\n",
      "1    0.950714    0.536096       0.541901     0.479182         2\n",
      "2    0.731994    0.309528       0.872946     0.025642         1\n",
      "3    0.598658    0.813795       0.732225     0.341248         2\n",
      "4    0.156019    0.684731       0.806561     0.380196         1\n",
      "..        ...         ...            ...          ...       ...\n",
      "495  0.353352    0.091582       0.668213     0.656955         1\n",
      "496  0.583656    0.917314       0.619490     0.956615         2\n",
      "497  0.077735    0.136819       0.463494     0.068958         0\n",
      "498  0.974395    0.950237       0.379786     0.057055         1\n",
      "499  0.986211    0.446006       0.863334     0.282187         1\n",
      "\n",
      "[500 rows x 5 columns]\n"
     ]
    }
   ],
   "execution_count": 5
  },
  {
   "metadata": {
    "ExecuteTime": {
     "end_time": "2025-09-06T05:52:19.597767Z",
     "start_time": "2025-09-06T05:52:19.577924Z"
    }
   },
   "cell_type": "code",
   "source": [
    "x = dataset[[\"urgency\",\"cost_ratio\",\"emotion_level\",\"regret_risk\"]]\n",
    "y = dataset[\"decision\"]"
   ],
   "id": "544b2684c53d05ea",
   "outputs": [],
   "execution_count": 6
  },
  {
   "metadata": {
    "ExecuteTime": {
     "end_time": "2025-09-06T06:09:41.842322Z",
     "start_time": "2025-09-06T06:09:38.675930Z"
    }
   },
   "cell_type": "code",
   "source": [
    "from sklearn.model_selection import train_test_split\n",
    "from sklearn.naive_bayes import GaussianNB\n",
    "from sklearn.linear_model import LogisticRegression\n",
    "from sklearn.metrics import classification_report\n",
    "import joblib\n",
    "\n",
    "X_train, X_test, y_train, y_test = train_test_split(x, y, test_size=0.2, random_state=42)\n",
    "\n",
    "# Naïve Bayes\n",
    "nb = GaussianNB()\n",
    "nb.fit(X_train, y_train)\n",
    "\n",
    "# Logistic Regression\n",
    "lr = LogisticRegression(max_iter=1000)\n",
    "lr.fit(X_train, y_train)\n",
    "\n",
    "print(\"Naïve Bayes:\\n\", classification_report(y_test, nb.predict(X_test)))\n",
    "print(\"Logistic Regression:\\n\", classification_report(y_test, lr.predict(X_test)))\n",
    "\n",
    "# Save models\n",
    "joblib.dump(nb, \"Dataset/naive_bayes.pkl\")\n",
    "joblib.dump(lr, \"Dataset/log_reg.pkl\")"
   ],
   "id": "8b24cd2c43e1f43",
   "outputs": [
    {
     "name": "stdout",
     "output_type": "stream",
     "text": [
      "Naïve Bayes:\n",
      "               precision    recall  f1-score   support\n",
      "\n",
      "           0       1.00      0.58      0.74        12\n",
      "           1       0.82      1.00      0.90        68\n",
      "           2       1.00      0.50      0.67        20\n",
      "\n",
      "    accuracy                           0.85       100\n",
      "   macro avg       0.94      0.69      0.77       100\n",
      "weighted avg       0.88      0.85      0.83       100\n",
      "\n",
      "Logistic Regression:\n",
      "               precision    recall  f1-score   support\n",
      "\n",
      "           0       1.00      0.50      0.67        12\n",
      "           1       0.87      1.00      0.93        68\n",
      "           2       1.00      0.80      0.89        20\n",
      "\n",
      "    accuracy                           0.90       100\n",
      "   macro avg       0.96      0.77      0.83       100\n",
      "weighted avg       0.91      0.90      0.89       100\n",
      "\n"
     ]
    },
    {
     "data": {
      "text/plain": [
       "['log_reg.pkl']"
      ]
     },
     "execution_count": 7,
     "metadata": {},
     "output_type": "execute_result"
    }
   ],
   "execution_count": 7
  },
  {
   "metadata": {
    "ExecuteTime": {
     "end_time": "2025-09-06T06:10:46.167451Z",
     "start_time": "2025-09-06T06:10:46.156143Z"
    }
   },
   "cell_type": "code",
   "source": [
    "def predict_decision(features, model=\"nb\"):\n",
    "    import numpy as np\n",
    "\n",
    "    x = np.array([[features[\"urgency\"], features[\"cost_ratio\"],\n",
    "                   features[\"emotion_level\"], features[\"regret_risk\"]]])\n",
    "\n",
    "    clf = joblib.load(\"Dataset/naive_bayes.pkl\") if model == \"nb\" else joblib.load(\"Dataset/log_reg.pkl\")\n",
    "    pred = clf.predict(x)[0]\n",
    "    probs = clf.predict_proba(x)[0]\n",
    "\n",
    "    return pred, probs\n"
   ],
   "id": "97ac3670a00dfa09",
   "outputs": [],
   "execution_count": 8
  }
 ],
 "metadata": {
  "kernelspec": {
   "display_name": "Python 3",
   "language": "python",
   "name": "python3"
  },
  "language_info": {
   "codemirror_mode": {
    "name": "ipython",
    "version": 2
   },
   "file_extension": ".py",
   "mimetype": "text/x-python",
   "name": "python",
   "nbconvert_exporter": "python",
   "pygments_lexer": "ipython2",
   "version": "2.7.6"
  }
 },
 "nbformat": 4,
 "nbformat_minor": 5
}
